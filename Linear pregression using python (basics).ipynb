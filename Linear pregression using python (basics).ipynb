{
 "cells": [
  {
   "cell_type": "markdown",
   "metadata": {},
   "source": [
    "## Linear Regression using Python (basics) "
   ]
  },
  {
   "cell_type": "code",
   "execution_count": null,
   "metadata": {},
   "outputs": [],
   "source": []
  },
  {
   "cell_type": "code",
   "execution_count": 21,
   "metadata": {},
   "outputs": [
    {
     "name": "stdout",
     "output_type": "stream",
     "text": [
      "      mpg  cylinders  displacement horsepower  weight  acceleration  \\\n",
      "32   25.0          4          98.0          ?    2046          19.0   \n",
      "126  21.0          6         200.0          ?    2875          17.0   \n",
      "330  40.9          4          85.0          ?    1835          17.3   \n",
      "336  23.6          4         140.0          ?    2905          14.3   \n",
      "354  34.5          4         100.0          ?    2320          15.8   \n",
      "374  23.0          4         151.0          ?    3035          20.5   \n",
      "\n",
      "     model_year  origin                  name  \n",
      "32           71       1            ford pinto  \n",
      "126          74       1         ford maverick  \n",
      "330          80       2  renault lecar deluxe  \n",
      "336          80       1    ford mustang cobra  \n",
      "354          81       2           renault 18i  \n",
      "374          82       1        amc concord dl  \n",
      "Mean Squared error: 28.66\n",
      "R**2: 0.59\n",
      "Mean squared error: 19.12\n",
      "R**2,0.72\n"
     ]
    }
   ],
   "source": [
    "import pandas as pd\n",
    "import numpy as np\n",
    "from sklearn.linear_model import LinearRegression\n",
    "from sklearn.model_selection import train_test_split\n",
    "from sklearn.metrics import mean_squared_error, r2_score\n",
    "import matplotlib.pyplot as plt\n",
    "\n",
    "### Read file \n",
    "df = pd.read_csv('https://gist.githubusercontent.com/omarish/5687264/raw/7e5c814ce6ef33e25d5259c1fe79463c190800d9/mpg.csv')\n",
    "### checking the data type of the file \n",
    "df.dtypes\n",
    "\n",
    "# Data cleaning step \n",
    "print(df[pd.to_numeric(df['horsepower'],errors='coerce').isnull()])\n",
    "\n",
    "# Cleaning from the particular column\n",
    "df['horsepower']=pd.to_numeric(df['horsepower'],errors='coerce')\n",
    "cols=df.columns\n",
    "#  Making all the unwanted value as NaN\n",
    "df[cols]=df[cols].apply(pd.to_numeric,errors=\"coerce\")\n",
    "df.applymap(np.isreal)\n",
    "df.head()\n",
    "\n",
    "# Dropping all the unnecessary columns\n",
    "df=df.drop(['name','origin','model_year'],axis=1)\n",
    "df=df.replace('?',np.nan)\n",
    "df=df.dropna()\n",
    "\n",
    "# Seperating the dependent variable (y) and independent variable(X)\n",
    "x=df.drop('mpg',axis=1)\n",
    "y=df[['mpg']]\n",
    "\n",
    "# Drop all the nan valus from the dataset\n",
    "df=df.dropna()\n",
    "\n",
    "# Making training and testing dataset \n",
    "x_train,x_test,y_train,y_test=train_test_split(x,y,test_size=0.2,random_state=1)\n",
    "\n",
    "# linear Regression and finding the best fit line for only one column\n",
    "reg=LinearRegression()\n",
    "reg.fit(x_train[['horsepower']],y_train)\n",
    "\n",
    "#Predicting the value\n",
    "y_predicted=reg.predict(x_test[['horsepower']])\n",
    "\n",
    "# Evalution matrices\n",
    "print(\"Mean Squared error: %.2f\" % mean_squared_error(y_test,y_predicted))\n",
    "print('R**2: %.2f'%r2_score(y_test,y_predicted))\n",
    "# Finding the best fit line for more tha none column\n",
    "reg.fit(x_train[['horsepower','weight','cylinders']],y_train)\n",
    "y_predicted=reg.predict(x_test[['horsepower','weight','cylinders']])\n",
    "\n",
    "print(\"Mean squared error: %.2f\" % mean_squared_error(y_test,y_predicted))\n",
    "print('R**2,%.2f' % r2_score(y_test,y_predicted))"
   ]
  }
 ],
 "metadata": {
  "kernelspec": {
   "display_name": "Python 3",
   "language": "python",
   "name": "python3"
  },
  "language_info": {
   "codemirror_mode": {
    "name": "ipython",
    "version": 3
   },
   "file_extension": ".py",
   "mimetype": "text/x-python",
   "name": "python",
   "nbconvert_exporter": "python",
   "pygments_lexer": "ipython3",
   "version": "3.7.4"
  }
 },
 "nbformat": 4,
 "nbformat_minor": 2
}
